{
 "cells": [
  {
   "cell_type": "code",
   "execution_count": null,
   "metadata": {},
   "outputs": [],
   "source": [
    "## import library\n",
    "\n",
    "import os\n",
    "import json"
   ]
  },
  {
   "cell_type": "code",
   "execution_count": null,
   "metadata": {},
   "outputs": [],
   "source": [
    "## generate samples\n",
    "\n",
    "os.system(\"npx ts-node ../test/core-test.ts\")"
   ]
  },
  {
   "cell_type": "code",
   "execution_count": null,
   "metadata": {},
   "outputs": [],
   "source": [
    "## helper functions for testing\n",
    "\n",
    "def is_same(a, b):\n",
    "  pass"
   ]
  },
  {
   "cell_type": "code",
   "execution_count": null,
   "metadata": {},
   "outputs": [],
   "source": [
    "## test the implementation against sample\n",
    "\n",
    "from core import compress, decompress\n",
    "\n",
    "def load_sample(file):\n",
    "  with open(file) as fd:\n",
    "    # Load sample from json file\n",
    "    sample = json.load(fd)\n",
    "    i = sample['i']\n",
    "    name = sample['name']\n",
    "    data = sample['data']\n",
    "    expect_compressed = sample['compressed']\n",
    "    \n",
    "    # Test the implementation\n",
    "    print(f\"case {i}: {name}\")\n",
    "    compressed = compress(data)\n",
    "    decompressed = decompress(compressed)\n",
    "    print(\"data:\", data)\n",
    "    print(\"compressed:\", compressed)\n",
    "    print(\"decompressed:\", decompressed)\n",
    "    \n",
    "    # Check if matched\n",
    "    if not is_same(compressed, expect_compressed):\n",
    "      raise Exception(\"compress mismatch\")\n",
    "    if not is_same(decompressed, data):\n",
    "      raise Exception(\"decompress mismatch\")\n",
    "    print(\"pass.\")"
   ]
  },
  {
   "cell_type": "code",
   "execution_count": null,
   "metadata": {},
   "outputs": [],
   "source": [
    "## try the test flow\n",
    "\n",
    "load_sample('samples/1.json')"
   ]
  },
  {
   "cell_type": "code",
   "execution_count": null,
   "metadata": {},
   "outputs": [],
   "source": [
    "## test against all samples\n",
    "\n",
    "dir = 'samples'\n",
    "n = len(os.listdir(dir))\n",
    "for i in range(n):\n",
    "  filename = f\"{i+1}.json\"\n",
    "  file = os.path.join(dir, filename)\n",
    "  load_sample(file)"
   ]
  }
 ],
 "metadata": {
  "kernelspec": {
   "display_name": ".venv",
   "language": "python",
   "name": "python3"
  },
  "language_info": {
   "codemirror_mode": {
    "name": "ipython",
    "version": 3
   },
   "file_extension": ".py",
   "mimetype": "text/x-python",
   "name": "python",
   "nbconvert_exporter": "python",
   "pygments_lexer": "ipython3",
   "version": "3.11.5"
  },
  "orig_nbformat": 4
 },
 "nbformat": 4,
 "nbformat_minor": 2
}
